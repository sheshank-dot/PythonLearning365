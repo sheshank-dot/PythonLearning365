{
 "cells": [
  {
   "cell_type": "code",
   "execution_count": 1,
   "id": "13ecffb9-32a7-4c73-be20-0ebbd9dcc5bc",
   "metadata": {},
   "outputs": [],
   "source": [
    "tup = 4,5,6"
   ]
  },
  {
   "cell_type": "code",
   "execution_count": 2,
   "id": "93db91eb-04db-4c44-8591-a816213ddac3",
   "metadata": {},
   "outputs": [
    {
     "data": {
      "text/plain": [
       "(4, 5, 6)"
      ]
     },
     "execution_count": 2,
     "metadata": {},
     "output_type": "execute_result"
    }
   ],
   "source": [
    "tup"
   ]
  },
  {
   "cell_type": "code",
   "execution_count": 3,
   "id": "11ada29d-f949-40a1-8eff-6132f720fb41",
   "metadata": {},
   "outputs": [],
   "source": [
    "nested_tup = (3,4,5),(5,6)"
   ]
  },
  {
   "cell_type": "code",
   "execution_count": 4,
   "id": "1413b154-0786-4cdf-9a6d-e8391fb7e36e",
   "metadata": {},
   "outputs": [
    {
     "data": {
      "text/plain": [
       "((3, 4, 5), (5, 6))"
      ]
     },
     "execution_count": 4,
     "metadata": {},
     "output_type": "execute_result"
    }
   ],
   "source": [
    "nested_tup"
   ]
  },
  {
   "cell_type": "code",
   "execution_count": 5,
   "id": "a34ed4ff-7ca7-4db3-8c18-cee767ca5f94",
   "metadata": {},
   "outputs": [],
   "source": [
    "#invoking tuple\n",
    "tup = [1,2,3]\n",
    "inv_tup = tuple(tup)"
   ]
  },
  {
   "cell_type": "code",
   "execution_count": 8,
   "id": "c5b97850-94d8-430d-b6ba-d73e6b3f49c7",
   "metadata": {},
   "outputs": [
    {
     "data": {
      "text/plain": [
       "(1, 2, 3)"
      ]
     },
     "execution_count": 8,
     "metadata": {},
     "output_type": "execute_result"
    }
   ],
   "source": [
    "inv_tup #check tuple "
   ]
  },
  {
   "cell_type": "code",
   "execution_count": 9,
   "id": "641ce266-6171-49d0-ae39-464adadac58e",
   "metadata": {},
   "outputs": [
    {
     "data": {
      "text/plain": [
       "2"
      ]
     },
     "execution_count": 9,
     "metadata": {},
     "output_type": "execute_result"
    }
   ],
   "source": [
    "inv_tup[1] #calling tuple number"
   ]
  },
  {
   "cell_type": "code",
   "execution_count": 11,
   "id": "5a49eb5a-e39a-4b7c-b80d-6b980e5022b2",
   "metadata": {},
   "outputs": [],
   "source": [
    "tup = tuple(['foo',[1,2], True] ) "
   ]
  },
  {
   "cell_type": "code",
   "execution_count": 23,
   "id": "0f6b9b7f-40df-4b67-9ecd-da894967a1ca",
   "metadata": {},
   "outputs": [
    {
     "data": {
      "text/plain": [
       "('foo', [1, 2, 3], True)"
      ]
     },
     "execution_count": 23,
     "metadata": {},
     "output_type": "execute_result"
    }
   ],
   "source": [
    "tup"
   ]
  },
  {
   "cell_type": "code",
   "execution_count": 16,
   "id": "59bb5268-870b-43ba-ac9d-191ba5bc00f8",
   "metadata": {},
   "outputs": [
    {
     "ename": "TypeError",
     "evalue": "'tuple' object does not support item assignment",
     "output_type": "error",
     "traceback": [
      "\u001b[1;31m---------------------------------------------------------------------------\u001b[0m",
      "\u001b[1;31mTypeError\u001b[0m                                 Traceback (most recent call last)",
      "Cell \u001b[1;32mIn[16], line 1\u001b[0m\n\u001b[1;32m----> 1\u001b[0m tup[\u001b[38;5;241m2\u001b[39m] \u001b[38;5;241m=\u001b[39m \u001b[38;5;28;01mFalse\u001b[39;00m\n",
      "\u001b[1;31mTypeError\u001b[0m: 'tuple' object does not support item assignment"
     ]
    }
   ],
   "source": [
    "tup[2] = False #Once the tuple is created it’s not possible to modify which object is stored in each slot"
   ]
  },
  {
   "cell_type": "code",
   "execution_count": 17,
   "id": "7f8b1c13-dcb4-46fd-9182-ddfe1096e585",
   "metadata": {},
   "outputs": [],
   "source": [
    "tup[1].append(3) #if a obj is mutable in tuple then it can be modified."
   ]
  },
  {
   "cell_type": "code",
   "execution_count": 18,
   "id": "53bc42b0-ddbc-445f-bf03-c9fe644a0648",
   "metadata": {},
   "outputs": [
    {
     "data": {
      "text/plain": [
       "('foo', [1, 2, 3], True)"
      ]
     },
     "execution_count": 18,
     "metadata": {},
     "output_type": "execute_result"
    }
   ],
   "source": [
    "tup"
   ]
  },
  {
   "cell_type": "code",
   "execution_count": 19,
   "id": "95c5db5e-7bc8-40b6-8fb1-8c51272346f1",
   "metadata": {},
   "outputs": [
    {
     "data": {
      "text/plain": [
       "(4, None, 'foo', 6, 0, 'bar')"
      ]
     },
     "execution_count": 19,
     "metadata": {},
     "output_type": "execute_result"
    }
   ],
   "source": [
    " (4, None, 'foo') + (6, 0) + ('bar',) #tuple concatenation"
   ]
  },
  {
   "cell_type": "code",
   "execution_count": 20,
   "id": "5345728f-d267-475f-bd0c-b480d17b7206",
   "metadata": {},
   "outputs": [
    {
     "data": {
      "text/plain": [
       "('foo', 'bar', 'foo', 'bar', 'foo', 'bar', 'foo', 'bar')"
      ]
     },
     "execution_count": 20,
     "metadata": {},
     "output_type": "execute_result"
    }
   ],
   "source": [
    " ('foo', 'bar') * 4 #togenerate multiple result with a string"
   ]
  },
  {
   "cell_type": "code",
   "execution_count": 24,
   "id": "d2ad6533-f229-47e5-8a5b-9ad538731a31",
   "metadata": {},
   "outputs": [
    {
     "data": {
      "text/plain": [
       "5"
      ]
     },
     "execution_count": 24,
     "metadata": {},
     "output_type": "execute_result"
    }
   ],
   "source": [
    "tup = 4,5,6\n",
    "a,b,c = tup\n",
    "b"
   ]
  },
  {
   "cell_type": "code",
   "execution_count": 28,
   "id": "34cb8692-0104-45f3-bbd9-935c2c88c941",
   "metadata": {},
   "outputs": [
    {
     "data": {
      "text/plain": [
       "7"
      ]
     },
     "execution_count": 28,
     "metadata": {},
     "output_type": "execute_result"
    }
   ],
   "source": [
    "tup = 4,5,(6,7)\n",
    "a,b,(c,d) = tup\n",
    "d"
   ]
  },
  {
   "cell_type": "code",
   "execution_count": 31,
   "id": "0deb6456-2829-4738-9434-278b4c58a2b7",
   "metadata": {},
   "outputs": [
    {
     "name": "stdout",
     "output_type": "stream",
     "text": [
      "a = 1, b = 2, c = 3\n",
      "a = 4, b = 5, c = 6\n",
      "a = 7, b = 8, c = 9\n"
     ]
    }
   ],
   "source": [
    "#variable unpacking with sequesnce in tuple\n",
    "seq = [(1,2,3),(4,5,6),(7,8,9)]\n",
    "for a,b,c in seq :\n",
    "    print('a = {0}, b = {1}, c = {2}'.format(a,b,c))"
   ]
  },
  {
   "cell_type": "code",
   "execution_count": 34,
   "id": "a5e52997-a5dd-4150-ad95-68c62f56d07b",
   "metadata": {},
   "outputs": [
    {
     "data": {
      "text/plain": [
       "[3, 4, 5]"
      ]
     },
     "execution_count": 34,
     "metadata": {},
     "output_type": "execute_result"
    }
   ],
   "source": [
    "values = 1,2,3,4,5\n",
    "a,b, *rest = values #instead of rest we use '_' for unwanted variable\n",
    "rest"
   ]
  },
  {
   "cell_type": "code",
   "execution_count": 35,
   "id": "5c6a400e-1074-43ae-967c-f97dfce92404",
   "metadata": {},
   "outputs": [
    {
     "data": {
      "text/plain": [
       "3"
      ]
     },
     "execution_count": 35,
     "metadata": {},
     "output_type": "execute_result"
    }
   ],
   "source": [
    "a = (1,2,3,4,4,5,5,5,6) #To count an occurance of number\n",
    "a.count(5)"
   ]
  },
  {
   "cell_type": "code",
   "execution_count": 39,
   "id": "f6792b40-06cf-4170-96f1-97f2821fa764",
   "metadata": {},
   "outputs": [],
   "source": [
    "############ List"
   ]
  },
  {
   "cell_type": "code",
   "execution_count": 40,
   "id": "a7419871-2394-4e20-ac6d-b875c82a401b",
   "metadata": {},
   "outputs": [],
   "source": [
    "values = list(a)"
   ]
  },
  {
   "cell_type": "code",
   "execution_count": 43,
   "id": "5bed65a2-7ec6-4938-904e-ae8e2fa6cb36",
   "metadata": {},
   "outputs": [
    {
     "data": {
      "text/plain": [
       "[1, 2, 3, 4, 4, 5, 5, 5, 6]"
      ]
     },
     "execution_count": 43,
     "metadata": {},
     "output_type": "execute_result"
    }
   ],
   "source": [
    "values"
   ]
  },
  {
   "cell_type": "code",
   "execution_count": 45,
   "id": "c4f781c4-08a8-46cf-b835-9107bb5bd03a",
   "metadata": {},
   "outputs": [],
   "source": [
    "values[5] = 9"
   ]
  },
  {
   "cell_type": "code",
   "execution_count": 46,
   "id": "94a7139f-5744-45b0-9fde-42183f6f5b98",
   "metadata": {},
   "outputs": [
    {
     "data": {
      "text/plain": [
       "[1, 2, 3, 4, 4, 9, 5, 5, 6]"
      ]
     },
     "execution_count": 46,
     "metadata": {},
     "output_type": "execute_result"
    }
   ],
   "source": [
    "values"
   ]
  },
  {
   "cell_type": "code",
   "execution_count": 60,
   "id": "7ffb7ba7-7da3-43d7-b917-48302d5b2859",
   "metadata": {},
   "outputs": [
    {
     "data": {
      "text/plain": [
       "['foo', 'red', 'peekaboo', 'baz', 'dwarf']"
      ]
     },
     "execution_count": 60,
     "metadata": {},
     "output_type": "execute_result"
    }
   ],
   "source": [
    "#insert a list\n",
    "b_list = ['foo', 'peekaboo', 'baz', 'dwarf']\n",
    "b_list.insert(1,'red')\n",
    "b_list"
   ]
  },
  {
   "cell_type": "code",
   "execution_count": 61,
   "id": "72897007-e9e6-490c-bcc6-812eaa8be6cd",
   "metadata": {},
   "outputs": [
    {
     "data": {
      "text/plain": [
       "['foo', 'red', 'baz', 'dwarf']"
      ]
     },
     "execution_count": 61,
     "metadata": {},
     "output_type": "execute_result"
    }
   ],
   "source": [
    "#to Drop a element from list\n",
    "b_list.pop(2)\n",
    "b_list"
   ]
  },
  {
   "cell_type": "code",
   "execution_count": 62,
   "id": "9978f3bd-0c20-4a50-9b3c-73df6a10456d",
   "metadata": {},
   "outputs": [
    {
     "data": {
      "text/plain": [
       "True"
      ]
     },
     "execution_count": 62,
     "metadata": {},
     "output_type": "execute_result"
    }
   ],
   "source": [
    "#to check if a list contain a word\n",
    "'dwarf' in b_list"
   ]
  },
  {
   "cell_type": "code",
   "execution_count": 63,
   "id": "20952a56-fcfb-461c-96dd-83367ee0e47d",
   "metadata": {},
   "outputs": [
    {
     "data": {
      "text/plain": [
       "False"
      ]
     },
     "execution_count": 63,
     "metadata": {},
     "output_type": "execute_result"
    }
   ],
   "source": [
    "'dwarf' not in b_list"
   ]
  },
  {
   "cell_type": "code",
   "execution_count": 64,
   "id": "c5865fb0-ba64-4534-be58-72953aca56cc",
   "metadata": {},
   "outputs": [],
   "source": [
    "#SLICING"
   ]
  },
  {
   "cell_type": "code",
   "execution_count": 84,
   "id": "02c7ab01-c308-4d8a-acb2-cccd9e340330",
   "metadata": {},
   "outputs": [
    {
     "data": {
      "text/plain": [
       "[0, 1, 2, 3, 4, 5, 6, 7, 8, 9, 10]"
      ]
     },
     "execution_count": 84,
     "metadata": {},
     "output_type": "execute_result"
    }
   ],
   "source": [
    "seq = range(0,11)\n",
    "seq1 = list(seq)\n",
    "seq1"
   ]
  },
  {
   "cell_type": "code",
   "execution_count": 85,
   "id": "ba9495b7-8747-4823-8fc1-f55a1aeadcc4",
   "metadata": {},
   "outputs": [
    {
     "data": {
      "text/plain": [
       "[1, 2, 3]"
      ]
     },
     "execution_count": 85,
     "metadata": {},
     "output_type": "execute_result"
    }
   ],
   "source": [
    "seq1[1:4]"
   ]
  },
  {
   "cell_type": "code",
   "execution_count": 86,
   "id": "12d7afbe-84b6-43b3-a1d6-e8b0af291152",
   "metadata": {},
   "outputs": [
    {
     "data": {
      "text/plain": [
       "[0, 1, 2, 3, 4]"
      ]
     },
     "execution_count": 86,
     "metadata": {},
     "output_type": "execute_result"
    }
   ],
   "source": [
    "seq1[:5]"
   ]
  },
  {
   "cell_type": "code",
   "execution_count": 87,
   "id": "61ed6863-203c-468f-9799-46389803e327",
   "metadata": {},
   "outputs": [
    {
     "data": {
      "text/plain": [
       "[3, 4, 5, 6, 7, 8, 9, 10]"
      ]
     },
     "execution_count": 87,
     "metadata": {},
     "output_type": "execute_result"
    }
   ],
   "source": [
    "seq1[3:]"
   ]
  },
  {
   "cell_type": "code",
   "execution_count": 88,
   "id": "d97053e4-e73c-41c0-94b1-5bc18e1694da",
   "metadata": {},
   "outputs": [
    {
     "data": {
      "text/plain": [
       "[7, 8, 9, 10]"
      ]
     },
     "execution_count": 88,
     "metadata": {},
     "output_type": "execute_result"
    }
   ],
   "source": [
    "seq1[-4:]"
   ]
  },
  {
   "cell_type": "code",
   "execution_count": 89,
   "id": "53da054a-7acd-415e-a080-72fe5d3d54e0",
   "metadata": {},
   "outputs": [
    {
     "data": {
      "text/plain": [
       "[5, 6, 7, 8]"
      ]
     },
     "execution_count": 89,
     "metadata": {},
     "output_type": "execute_result"
    }
   ],
   "source": [
    "seq1[-6:-2]"
   ]
  },
  {
   "cell_type": "code",
   "execution_count": 90,
   "id": "b43b362b-8b13-4ce0-9392-f01fe17cc6f6",
   "metadata": {},
   "outputs": [
    {
     "data": {
      "text/plain": [
       "[0, 2, 4, 6, 8, 10]"
      ]
     },
     "execution_count": 90,
     "metadata": {},
     "output_type": "execute_result"
    }
   ],
   "source": [
    "seq1[::2]"
   ]
  },
  {
   "cell_type": "code",
   "execution_count": 91,
   "id": "4503eb74-93d5-41e3-bedb-535d2af905a0",
   "metadata": {},
   "outputs": [
    {
     "data": {
      "text/plain": [
       "[10, 9, 8, 7, 6, 5, 4, 3, 2, 1, 0]"
      ]
     },
     "execution_count": 91,
     "metadata": {},
     "output_type": "execute_result"
    }
   ],
   "source": [
    "seq1[::-1] #to reverse the list"
   ]
  },
  {
   "cell_type": "code",
   "execution_count": 92,
   "id": "41f90238-9cb9-4af4-b765-89a4c0966df4",
   "metadata": {},
   "outputs": [],
   "source": [
    "#built in sequence functiom\n",
    "some_list = ['foo', 'bar', 'baz']\n",
    "mapping = {}"
   ]
  },
  {
   "cell_type": "code",
   "execution_count": 94,
   "id": "976f48e5-87a3-47b5-9d37-7c0ff97f7dce",
   "metadata": {},
   "outputs": [],
   "source": [
    "for i , v in enumerate(some_list) :\n",
    "    mapping[v] = i\n",
    "    "
   ]
  },
  {
   "cell_type": "code",
   "execution_count": 95,
   "id": "1e2b7b0b-7472-4837-85e5-c62afc22e81f",
   "metadata": {},
   "outputs": [
    {
     "data": {
      "text/plain": [
       "{'foo': 0, 'bar': 1, 'baz': 2}"
      ]
     },
     "execution_count": 95,
     "metadata": {},
     "output_type": "execute_result"
    }
   ],
   "source": [
    "mapping"
   ]
  },
  {
   "cell_type": "code",
   "execution_count": 97,
   "id": "55033426-05c7-4cb9-a6ae-641bd1fffa6d",
   "metadata": {},
   "outputs": [
    {
     "data": {
      "text/plain": [
       "[1, 1, 2, 4, 5, 6, 7]"
      ]
     },
     "execution_count": 97,
     "metadata": {},
     "output_type": "execute_result"
    }
   ],
   "source": [
    "sort = [1,4,5,6,7,2,1] #sorting\n",
    "sorted(sort)"
   ]
  },
  {
   "cell_type": "code",
   "execution_count": 99,
   "id": "94b1ab45-b397-4f9e-bf75-5e99c9269f25",
   "metadata": {},
   "outputs": [],
   "source": [
    "#zip\n",
    "seq1 = ['aaa','bbb','ccc']\n",
    "seq2 = ['bbb','aaa','ccc']\n",
    "zipped = zip(seq1,seq2)\n"
   ]
  },
  {
   "cell_type": "code",
   "execution_count": 100,
   "id": "a0d1a319-c2e5-4ecc-8b80-3c5cd6b91a76",
   "metadata": {},
   "outputs": [
    {
     "data": {
      "text/plain": [
       "[('aaa', 'bbb'), ('bbb', 'aaa'), ('ccc', 'ccc')]"
      ]
     },
     "execution_count": 100,
     "metadata": {},
     "output_type": "execute_result"
    }
   ],
   "source": [
    "list (zipped)"
   ]
  },
  {
   "cell_type": "code",
   "execution_count": 101,
   "id": "1fe52243-ee8a-4e8f-9d8d-01bed447355b",
   "metadata": {},
   "outputs": [
    {
     "data": {
      "text/plain": [
       "[('aaa', 'bbb', True), ('bbb', 'aaa', False)]"
      ]
     },
     "execution_count": 101,
     "metadata": {},
     "output_type": "execute_result"
    }
   ],
   "source": [
    "seq3 = [True, False]\n",
    "list(zip(seq1,seq2,seq3))"
   ]
  },
  {
   "cell_type": "code",
   "execution_count": 106,
   "id": "621c8b49-efca-42fc-992b-53082c259a25",
   "metadata": {},
   "outputs": [
    {
     "name": "stdout",
     "output_type": "stream",
     "text": [
      "0: aaa,bbb\n",
      "1: bbb,aaa\n",
      "2: ccc,ccc\n"
     ]
    }
   ],
   "source": [
    "for i , (a,b) in enumerate(zip(seq1,seq2)):\n",
    "    print('{0}: {1},{2}'.format(i,a,b))"
   ]
  },
  {
   "cell_type": "code",
   "execution_count": 107,
   "id": "8639ce54-2529-4005-a688-b48214f17f56",
   "metadata": {},
   "outputs": [],
   "source": [
    "#converting list of rows to list of columns"
   ]
  },
  {
   "cell_type": "code",
   "execution_count": 110,
   "id": "18622c83-a960-46e3-8b6d-4b977643fbf6",
   "metadata": {},
   "outputs": [
    {
     "data": {
      "text/plain": [
       "('Ryan', 'Clemens', 'Curt')"
      ]
     },
     "execution_count": 110,
     "metadata": {},
     "output_type": "execute_result"
    }
   ],
   "source": [
    " pitchers = [('Nolan', 'Ryan'), ('Roger', 'Clemens'),('Schilling', 'Curt')]\n",
    "first_name, last_name = zip(*pitchers)\n",
    "#first_name\n",
    "last_name"
   ]
  },
  {
   "cell_type": "code",
   "execution_count": 111,
   "id": "706a6105-2c56-4031-9b94-48b873675b45",
   "metadata": {},
   "outputs": [],
   "source": [
    "#############dictionary"
   ]
  },
  {
   "cell_type": "code",
   "execution_count": 137,
   "id": "1577d68b-9ee0-4869-bda3-75f6ad6ed333",
   "metadata": {},
   "outputs": [],
   "source": [
    "dict = {'a': 'somenubmer','b':[1,2,3,4]}"
   ]
  },
  {
   "cell_type": "code",
   "execution_count": 117,
   "id": "37e025a7-7279-441d-b8ce-02759e996053",
   "metadata": {},
   "outputs": [
    {
     "data": {
      "text/plain": [
       "'somenubmer'"
      ]
     },
     "execution_count": 117,
     "metadata": {},
     "output_type": "execute_result"
    }
   ],
   "source": [
    "dict['a']"
   ]
  },
  {
   "cell_type": "code",
   "execution_count": 139,
   "id": "8a3da468-6cf4-411b-87a8-9475e2cf741b",
   "metadata": {},
   "outputs": [],
   "source": [
    "dict[3] = \"try\""
   ]
  },
  {
   "cell_type": "code",
   "execution_count": 119,
   "id": "ea98b075-aa3c-4028-8c76-c0fc81c7771f",
   "metadata": {},
   "outputs": [
    {
     "data": {
      "text/plain": [
       "{'a': 'somenubmer', 'b': [1, 2, 3, 4], 3: 'try'}"
      ]
     },
     "execution_count": 119,
     "metadata": {},
     "output_type": "execute_result"
    }
   ],
   "source": [
    "dict"
   ]
  },
  {
   "cell_type": "code",
   "execution_count": 120,
   "id": "a2eb0d18-6c4d-48af-aab4-5ffeabcd64a3",
   "metadata": {},
   "outputs": [
    {
     "data": {
      "text/plain": [
       "True"
      ]
     },
     "execution_count": 120,
     "metadata": {},
     "output_type": "execute_result"
    }
   ],
   "source": [
    "'b' in dict"
   ]
  },
  {
   "cell_type": "code",
   "execution_count": 125,
   "id": "7532e4bd-4c6a-4a6d-91da-303361dc6171",
   "metadata": {},
   "outputs": [
    {
     "data": {
      "text/plain": [
       "True"
      ]
     },
     "execution_count": 125,
     "metadata": {},
     "output_type": "execute_result"
    }
   ],
   "source": [
    "3 in dict"
   ]
  },
  {
   "cell_type": "code",
   "execution_count": 127,
   "id": "bbf04899-d89c-4771-a7d9-cccccfdca0b1",
   "metadata": {},
   "outputs": [],
   "source": [
    "del dict['a'] #delete entire row"
   ]
  },
  {
   "cell_type": "code",
   "execution_count": 128,
   "id": "4bba11c7-88a8-4678-a6e5-c96c320dd0b6",
   "metadata": {},
   "outputs": [
    {
     "data": {
      "text/plain": [
       "{'b': [1, 2, 3, 4], 3: 'try'}"
      ]
     },
     "execution_count": 128,
     "metadata": {},
     "output_type": "execute_result"
    }
   ],
   "source": [
    "dict"
   ]
  },
  {
   "cell_type": "code",
   "execution_count": 133,
   "id": "bac2051b-7d8d-4c0f-8661-8512885b8806",
   "metadata": {},
   "outputs": [
    {
     "data": {
      "text/plain": [
       "2"
      ]
     },
     "execution_count": 133,
     "metadata": {},
     "output_type": "execute_result"
    }
   ],
   "source": [
    "dict['b'].pop() #pop will delete a single instance"
   ]
  },
  {
   "cell_type": "code",
   "execution_count": 132,
   "id": "bfb27a32-4d26-4eed-8628-ef5c9a84f978",
   "metadata": {},
   "outputs": [
    {
     "data": {
      "text/plain": [
       "{'b': [1, 2], 3: 'try'}"
      ]
     },
     "execution_count": 132,
     "metadata": {},
     "output_type": "execute_result"
    }
   ],
   "source": [
    "dict"
   ]
  },
  {
   "cell_type": "code",
   "execution_count": 151,
   "id": "85042b1f-480b-4f65-81e9-bf445cb6124d",
   "metadata": {},
   "outputs": [],
   "source": [
    "key_list = list(dict.keys())"
   ]
  },
  {
   "cell_type": "code",
   "execution_count": 152,
   "id": "a1e9cb43-a448-4366-b2f4-c7ef3233b7f9",
   "metadata": {},
   "outputs": [],
   "source": [
    "value_list = list(dict.values())"
   ]
  },
  {
   "cell_type": "code",
   "execution_count": 143,
   "id": "55725ce7-c824-4407-b821-cea873a3155b",
   "metadata": {},
   "outputs": [],
   "source": [
    "dict.update({'b': 'boo', 'c':12})"
   ]
  },
  {
   "cell_type": "code",
   "execution_count": 144,
   "id": "c76e1df0-2c2f-4b89-9699-d38753a629f3",
   "metadata": {},
   "outputs": [
    {
     "data": {
      "text/plain": [
       "{'a': 'somenubmer', 'b': 'boo', 3: 'try', 'c': 12}"
      ]
     },
     "execution_count": 144,
     "metadata": {},
     "output_type": "execute_result"
    }
   ],
   "source": [
    "dict"
   ]
  },
  {
   "cell_type": "code",
   "execution_count": 153,
   "id": "a0b1d14e-d3ca-404c-bdbf-892b69debc27",
   "metadata": {},
   "outputs": [],
   "source": [
    "mapping = {}\n",
    "for key, value in zip(key_list, value_list):\n",
    "    mapping[key] = value"
   ]
  },
  {
   "cell_type": "code",
   "execution_count": 158,
   "id": "ed3e7fd8-424f-4469-b2a7-3b061d5809e4",
   "metadata": {},
   "outputs": [
    {
     "ename": "TypeError",
     "evalue": "'dict' object is not callable",
     "output_type": "error",
     "traceback": [
      "\u001b[1;31m---------------------------------------------------------------------------\u001b[0m",
      "\u001b[1;31mTypeError\u001b[0m                                 Traceback (most recent call last)",
      "Cell \u001b[1;32mIn[158], line 1\u001b[0m\n\u001b[1;32m----> 1\u001b[0m mapping \u001b[38;5;241m=\u001b[39m \u001b[38;5;28mdict\u001b[39m(\u001b[38;5;28mzip\u001b[39m(\u001b[38;5;28mrange\u001b[39m(\u001b[38;5;241m5\u001b[39m), \u001b[38;5;28mreversed\u001b[39m(\u001b[38;5;28mrange\u001b[39m(\u001b[38;5;241m5\u001b[39m))))\n\u001b[0;32m      2\u001b[0m mapping\n",
      "\u001b[1;31mTypeError\u001b[0m: 'dict' object is not callable"
     ]
    }
   ],
   "source": [
    "mapping = dict(zip(range(5), reversed(range(5))))\n",
    "mapping"
   ]
  },
  {
   "cell_type": "code",
   "execution_count": 159,
   "id": "578dea7e-e756-4e39-8574-16a47c70c865",
   "metadata": {},
   "outputs": [],
   "source": [
    "#default values"
   ]
  },
  {
   "cell_type": "code",
   "execution_count": 160,
   "id": "b8401c4d-a55b-42b1-934a-4f0b9b099947",
   "metadata": {},
   "outputs": [],
   "source": [
    "words = ['apple', 'better', 'bar', 'atom','book']\n",
    "by_letter = {}"
   ]
  },
  {
   "cell_type": "code",
   "execution_count": 189,
   "id": "91a4aa09-4bdc-4203-9ee2-d85a9a9444b1",
   "metadata": {},
   "outputs": [],
   "source": [
    "for word in words:\n",
    "    letter = word[0]\n",
    "    if letter not in by_letter:\n",
    "        by_letter[letter] = [word]\n",
    "    else:\n",
    "        by_letter[letter].isalnum"
   ]
  },
  {
   "cell_type": "code",
   "execution_count": 190,
   "id": "6daa1569-d504-4bd7-8893-67bd55979bab",
   "metadata": {},
   "outputs": [
    {
     "data": {
      "text/plain": [
       "{'a': 'atom', 'b': 'book'}"
      ]
     },
     "execution_count": 190,
     "metadata": {},
     "output_type": "execute_result"
    }
   ],
   "source": [
    "by_letter"
   ]
  },
  {
   "cell_type": "code",
   "execution_count": 191,
   "id": "076a5d92-9bec-4886-86b6-34899a1fd9f5",
   "metadata": {},
   "outputs": [],
   "source": [
    "#set"
   ]
  },
  {
   "cell_type": "code",
   "execution_count": 192,
   "id": "0b38b7ab-c908-44b4-b23d-bacb436fa3b9",
   "metadata": {},
   "outputs": [
    {
     "data": {
      "text/plain": [
       "{1, 2, 3, 22}"
      ]
     },
     "execution_count": 192,
     "metadata": {},
     "output_type": "execute_result"
    }
   ],
   "source": [
    "{1,2,3,1,2,3,1,22,3}"
   ]
  },
  {
   "cell_type": "code",
   "execution_count": 193,
   "id": "ba75d2e3-8a08-4211-a9bb-fc0e7db92d1e",
   "metadata": {},
   "outputs": [],
   "source": [
    "a = {1,2,3,4}\n",
    "b= {1,4,6,8,9}"
   ]
  },
  {
   "cell_type": "code",
   "execution_count": 194,
   "id": "b60256ce-f5ac-4296-8cd6-7f861fa89f83",
   "metadata": {},
   "outputs": [
    {
     "data": {
      "text/plain": [
       "{1, 2, 3, 4, 6, 8, 9}"
      ]
     },
     "execution_count": 194,
     "metadata": {},
     "output_type": "execute_result"
    }
   ],
   "source": [
    "a|b  # | is for union"
   ]
  },
  {
   "cell_type": "code",
   "execution_count": 195,
   "id": "96ba3ffa-1733-436c-88dd-4bfdb4df6b37",
   "metadata": {},
   "outputs": [
    {
     "data": {
      "text/plain": [
       "{1, 2, 3, 4, 6, 8, 9}"
      ]
     },
     "execution_count": 195,
     "metadata": {},
     "output_type": "execute_result"
    }
   ],
   "source": [
    "a.union(b)"
   ]
  },
  {
   "cell_type": "code",
   "execution_count": 196,
   "id": "f916efea-85eb-472f-89b4-65e56bf373a0",
   "metadata": {},
   "outputs": [
    {
     "data": {
      "text/plain": [
       "{1, 4}"
      ]
     },
     "execution_count": 196,
     "metadata": {},
     "output_type": "execute_result"
    }
   ],
   "source": [
    "a & b  # & is for intersection "
   ]
  },
  {
   "cell_type": "code",
   "execution_count": 200,
   "id": "e260fa3c-ea7b-44bc-86c8-db7f17bdd83f",
   "metadata": {},
   "outputs": [],
   "source": [
    "c = a.copy()"
   ]
  },
  {
   "cell_type": "code",
   "execution_count": 202,
   "id": "bef0a9ac-f266-4333-92a9-cef36e77fa8e",
   "metadata": {},
   "outputs": [],
   "source": [
    "c |= b"
   ]
  },
  {
   "cell_type": "code",
   "execution_count": 203,
   "id": "7fb5e799-e51e-4314-8fc9-b7fb390b3d20",
   "metadata": {},
   "outputs": [
    {
     "data": {
      "text/plain": [
       "{1, 2, 3, 4, 6, 8, 9}"
      ]
     },
     "execution_count": 203,
     "metadata": {},
     "output_type": "execute_result"
    }
   ],
   "source": [
    "c"
   ]
  },
  {
   "cell_type": "code",
   "execution_count": 204,
   "id": "75b527a7-348b-4184-be95-14b2e53fc604",
   "metadata": {},
   "outputs": [],
   "source": [
    "a_set= {1,2,3,4,5}"
   ]
  },
  {
   "cell_type": "code",
   "execution_count": 205,
   "id": "efeacdae-52b3-45dc-ac6e-3f83e6fd34ea",
   "metadata": {},
   "outputs": [
    {
     "data": {
      "text/plain": [
       "True"
      ]
     },
     "execution_count": 205,
     "metadata": {},
     "output_type": "execute_result"
    }
   ],
   "source": [
    "{1,2,3}.issubset(a_set)"
   ]
  },
  {
   "cell_type": "code",
   "execution_count": 207,
   "id": "2ab59c5b-8b28-4fbb-8dba-4d1b5e66ecd6",
   "metadata": {},
   "outputs": [
    {
     "data": {
      "text/plain": [
       "True"
      ]
     },
     "execution_count": 207,
     "metadata": {},
     "output_type": "execute_result"
    }
   ],
   "source": [
    "a_set.issuperset({1,2,3})"
   ]
  },
  {
   "cell_type": "code",
   "execution_count": 208,
   "id": "a1dd80e0-a1e1-4802-8a73-73db4f1380af",
   "metadata": {},
   "outputs": [
    {
     "data": {
      "text/plain": [
       "True"
      ]
     },
     "execution_count": 208,
     "metadata": {},
     "output_type": "execute_result"
    }
   ],
   "source": [
    "{1,2,3} == {3,2,1}"
   ]
  },
  {
   "cell_type": "code",
   "execution_count": 209,
   "id": "2bfd89a9-e8c8-4325-9815-8a40ce9dd4a6",
   "metadata": {},
   "outputs": [],
   "source": [
    "strings = ['a', 'as', 'bat', 'car', 'dove', 'python']"
   ]
  },
  {
   "cell_type": "code",
   "execution_count": 211,
   "id": "e2444c1e-f813-4710-8419-25d4df5cc788",
   "metadata": {},
   "outputs": [
    {
     "data": {
      "text/plain": [
       "['BAT', 'CAR', 'DOVE', 'PYTHON']"
      ]
     },
     "execution_count": 211,
     "metadata": {},
     "output_type": "execute_result"
    }
   ],
   "source": [
    "[x.upper() for x in strings if len(x) > 2]"
   ]
  },
  {
   "cell_type": "code",
   "execution_count": 212,
   "id": "8aa23ec4-1a95-4a0c-9fed-45c4395fb1f6",
   "metadata": {},
   "outputs": [
    {
     "data": {
      "text/plain": [
       "{1, 2, 3, 4, 6}"
      ]
     },
     "execution_count": 212,
     "metadata": {},
     "output_type": "execute_result"
    }
   ],
   "source": [
    "{len(x) for x in strings}"
   ]
  },
  {
   "cell_type": "code",
   "execution_count": 214,
   "id": "6e19a221-fd6f-4d38-a8a3-c0ce998b0be8",
   "metadata": {},
   "outputs": [
    {
     "data": {
      "text/plain": [
       "{'a': 0, 'as': 1, 'bat': 2, 'car': 3, 'dove': 4, 'python': 5}"
      ]
     },
     "execution_count": 214,
     "metadata": {},
     "output_type": "execute_result"
    }
   ],
   "source": [
    "loc_mapping = {val : index for index, val in enumerate(strings)}\n",
    "loc_mapping"
   ]
  },
  {
   "cell_type": "code",
   "execution_count": 218,
   "id": "bfcb6d3e-410a-438e-84c3-daf173be7bf6",
   "metadata": {},
   "outputs": [],
   "source": [
    " all_data = [['John', 'Emily', 'Michael', 'Mary', 'Steven'],      \n",
    "['Maria', 'Juan', 'Javier', 'Natalia', 'Pilar']]\n",
    "import numpy as np"
   ]
  },
  {
   "cell_type": "code",
   "execution_count": 224,
   "id": "27af6ede-be74-489d-b77c-4c40991ce888",
   "metadata": {},
   "outputs": [
    {
     "data": {
      "text/plain": [
       "['Steven']"
      ]
     },
     "execution_count": 224,
     "metadata": {},
     "output_type": "execute_result"
    }
   ],
   "source": [
    "[name for names in all_data for name in names if name.count('e') >= 2]"
   ]
  },
  {
   "cell_type": "code",
   "execution_count": 225,
   "id": "c60a82aa-e132-48d3-a6f9-4ddc90aed961",
   "metadata": {},
   "outputs": [],
   "source": [
    "#function\n",
    "def my_function(x,y, z = 1.5):\n",
    "    if z > 1:\n",
    "        return z*(x+y)\n",
    "    else:\n",
    "        return z/(x+y)"
   ]
  },
  {
   "cell_type": "code",
   "execution_count": 226,
   "id": "35b293c1-210a-4c06-807b-b24f8b5adcd2",
   "metadata": {},
   "outputs": [],
   "source": [
    "a = []\n",
    "def func():\n",
    "    for i in range(5):\n",
    "        a.append(i)\n",
    "        "
   ]
  },
  {
   "cell_type": "code",
   "execution_count": 227,
   "id": "306d77c2-3ac1-40d6-83ae-388037d1bd83",
   "metadata": {},
   "outputs": [],
   "source": [
    "a = None\n",
    "def bind_a_variable():\n",
    "    global a\n",
    "    a = []\n",
    "    bind_a_variable()"
   ]
  },
  {
   "cell_type": "code",
   "execution_count": 228,
   "id": "1be621ec-eca7-4c62-8e98-671fa6901ecd",
   "metadata": {},
   "outputs": [
    {
     "name": "stdout",
     "output_type": "stream",
     "text": [
      "None\n"
     ]
    }
   ],
   "source": [
    "print(a)"
   ]
  },
  {
   "cell_type": "code",
   "execution_count": 229,
   "id": "75992f30-6a51-4148-abc0-9361a4da3990",
   "metadata": {},
   "outputs": [
    {
     "ename": "TypeError",
     "evalue": "bind_a_variable() takes 0 positional arguments but 1 was given",
     "output_type": "error",
     "traceback": [
      "\u001b[1;31m---------------------------------------------------------------------------\u001b[0m",
      "\u001b[1;31mTypeError\u001b[0m                                 Traceback (most recent call last)",
      "Cell \u001b[1;32mIn[229], line 1\u001b[0m\n\u001b[1;32m----> 1\u001b[0m bind_a_variable(\u001b[38;5;241m1\u001b[39m)\n",
      "\u001b[1;31mTypeError\u001b[0m: bind_a_variable() takes 0 positional arguments but 1 was given"
     ]
    }
   ],
   "source": [
    "bind_a_variable(1)"
   ]
  },
  {
   "cell_type": "code",
   "execution_count": 230,
   "id": "71f9abee-0b86-43c3-ba3a-48097223bfb5",
   "metadata": {},
   "outputs": [],
   "source": [
    "import re"
   ]
  },
  {
   "cell_type": "code",
   "execution_count": 231,
   "id": "221a21a2-7722-4620-ace2-cae61b0426bf",
   "metadata": {},
   "outputs": [],
   "source": [
    "states = ['   Alabama ', 'Georgia!', 'Georgia', 'georgia', 'FlOrIda','south   carolina##', 'West virginia?']"
   ]
  },
  {
   "cell_type": "code",
   "execution_count": 234,
   "id": "42be3614-0ee7-411f-9ad6-a673cdcb3c48",
   "metadata": {},
   "outputs": [],
   "source": [
    "def clean_str(strings):\n",
    "    result = []\n",
    "    for value in strings:\n",
    "        value = value.strip()\n",
    "        value = re.sub('[!#?]','',value)\n",
    "        value = value.title()\n",
    "        result.append(value)\n",
    "    return result"
   ]
  },
  {
   "cell_type": "code",
   "execution_count": 235,
   "id": "9f61cec6-5162-40db-8b2c-c2d3de4e0d26",
   "metadata": {},
   "outputs": [
    {
     "data": {
      "text/plain": [
       "['Alabama',\n",
       " 'Georgia',\n",
       " 'Georgia',\n",
       " 'Georgia',\n",
       " 'Florida',\n",
       " 'South   Carolina',\n",
       " 'West Virginia']"
      ]
     },
     "execution_count": 235,
     "metadata": {},
     "output_type": "execute_result"
    }
   ],
   "source": [
    "clean_str(states)"
   ]
  },
  {
   "cell_type": "code",
   "execution_count": 242,
   "id": "9f2c2764-eedd-42e2-81a3-d18219a1a5bf",
   "metadata": {},
   "outputs": [],
   "source": [
    "def remove_punctuation(value):\n",
    "    return re.sub('[!#?]', '', value)"
   ]
  },
  {
   "cell_type": "code",
   "execution_count": 243,
   "id": "5e8d77b3-a510-40d4-93af-b5682d8df128",
   "metadata": {},
   "outputs": [],
   "source": [
    "clean_ops = [str.strip, remove_punctuation, str.title]"
   ]
  },
  {
   "cell_type": "code",
   "execution_count": 244,
   "id": "7f87e636-a231-4b49-9f31-18de981660aa",
   "metadata": {},
   "outputs": [],
   "source": [
    " def clean_strings(strings, ops):\n",
    "     result = []\n",
    "     for value in strings:\n",
    "         for function in ops:\n",
    "             value = function(value)\n",
    "         result.append(value)\n",
    "     return result"
   ]
  },
  {
   "cell_type": "code",
   "execution_count": 245,
   "id": "91f0a92f-c2cd-4495-8670-b15e8f663714",
   "metadata": {},
   "outputs": [
    {
     "data": {
      "text/plain": [
       "['Alabama',\n",
       " 'Georgia',\n",
       " 'Georgia',\n",
       " 'Georgia',\n",
       " 'Florida',\n",
       " 'South   Carolina',\n",
       " 'West Virginia']"
      ]
     },
     "execution_count": 245,
     "metadata": {},
     "output_type": "execute_result"
    }
   ],
   "source": [
    " clean_strings(states, clean_ops)"
   ]
  },
  {
   "cell_type": "code",
   "execution_count": 1,
   "id": "fe1756c5-8ed5-4e5e-97c0-95aa0aca6af3",
   "metadata": {},
   "outputs": [
    {
     "data": {
      "text/plain": [
       "<function __main__.<lambda>(x)>"
      ]
     },
     "execution_count": 1,
     "metadata": {},
     "output_type": "execute_result"
    }
   ],
   "source": [
    "def short_t(x):\n",
    "    return x * 2\n",
    "\n",
    "\n",
    "lambda x : x * 2\n"
   ]
  },
  {
   "cell_type": "code",
   "execution_count": null,
   "id": "4b792232-46a8-4cb1-b529-0a058c358ff4",
   "metadata": {},
   "outputs": [],
   "source": []
  }
 ],
 "metadata": {
  "kernelspec": {
   "display_name": "Python 3 (ipykernel)",
   "language": "python",
   "name": "python3"
  },
  "language_info": {
   "codemirror_mode": {
    "name": "ipython",
    "version": 3
   },
   "file_extension": ".py",
   "mimetype": "text/x-python",
   "name": "python",
   "nbconvert_exporter": "python",
   "pygments_lexer": "ipython3",
   "version": "3.11.7"
  }
 },
 "nbformat": 4,
 "nbformat_minor": 5
}
